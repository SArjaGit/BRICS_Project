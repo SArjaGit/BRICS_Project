{
 "cells": [
  {
   "cell_type": "markdown",
   "metadata": {},
   "source": [
    "* [To Do] Project related details"
   ]
  },
  {
   "cell_type": "code",
   "execution_count": 1,
   "metadata": {},
   "outputs": [],
   "source": [
    "# Import all libraries and dependencies\n",
    "import pandas as pd\n",
    "import os\n",
    "import numpy as np\n",
    "import scipy as scipy\n",
    "import matplotlib.pyplot as plt\n",
    "import matplotlib.figure as figure\n",
    "from prophet import Prophet"
   ]
  },
  {
   "cell_type": "code",
   "execution_count": 2,
   "metadata": {},
   "outputs": [],
   "source": [
    "# Set default options for pandas and other libraries\n",
    "pd.set_option('display.max_colwidth', None)"
   ]
  },
  {
   "cell_type": "code",
   "execution_count": 3,
   "metadata": {},
   "outputs": [],
   "source": [
    "# Set all global variables\n",
    "start_year = 2010\n",
    "end_year = 2019"
   ]
  },
  {
   "cell_type": "code",
   "execution_count": 4,
   "metadata": {},
   "outputs": [],
   "source": [
    "# Import CSV files\n",
    "# economy_df = pd.read_csv(\"../Resources/Economy_Data.csv\", delimiter=';')\n",
    "# education_environment_df = pd.read_csv(\"../Resources/EducationAndEnviron_Data.csv\", delimiter=';')\n",
    "# health_poverty_df = pd.read_csv(\"../Resources/HealthAndpoverty_Data.csv\", delimiter=';')\n",
    "# private_sector_df = pd.read_csv(\"../Resources/privatesector_Data.csv\", delimiter=';')\n",
    "# public_sector_df = pd.read_csv(\"../Resources/PublicSector_Indicators.csv\", delimiter=';')\n",
    "\n",
    "# Import Excel files\n",
    "economy_raw_df = pd.read_excel(\"../Resources/BRICS Economic Data.xlsx\", sheet_name=\"Data\")\n",
    "education_environment_raw_df = pd.read_excel(\"../Resources/BRICS Education and Environment Data.xlsx\", sheet_name=\"Data\")\n",
    "health_poverty_raw_df = pd.read_excel(\"../Resources/BRICS Health and Poverty Data.xlsx\", sheet_name=\"Data\")\n",
    "private_sector_raw_df = pd.read_excel(\"../Resources/BRICS Private Sector Data.xlsx\", sheet_name=\"Data\")\n",
    "public_sector_raw_df = pd.read_excel(\"../Resources/BRICS Public Sector and Society Data.xlsx\", sheet_name=\"Data\")"
   ]
  },
  {
   "cell_type": "code",
   "execution_count": 5,
   "metadata": {},
   "outputs": [
    {
     "data": {
      "text/html": [
       "<div>\n",
       "<style scoped>\n",
       "    .dataframe tbody tr th:only-of-type {\n",
       "        vertical-align: middle;\n",
       "    }\n",
       "\n",
       "    .dataframe tbody tr th {\n",
       "        vertical-align: top;\n",
       "    }\n",
       "\n",
       "    .dataframe thead th {\n",
       "        text-align: right;\n",
       "    }\n",
       "</style>\n",
       "<table border=\"1\" class=\"dataframe\">\n",
       "  <thead>\n",
       "    <tr style=\"text-align: right;\">\n",
       "      <th></th>\n",
       "      <th>dataframe</th>\n",
       "      <th>shape</th>\n",
       "      <th>total_nans</th>\n",
       "    </tr>\n",
       "  </thead>\n",
       "  <tbody>\n",
       "    <tr>\n",
       "      <th>0</th>\n",
       "      <td>economy</td>\n",
       "      <td>(1730, 55)</td>\n",
       "      <td>26550</td>\n",
       "    </tr>\n",
       "    <tr>\n",
       "      <th>1</th>\n",
       "      <td>education_environment</td>\n",
       "      <td>(1430, 55)</td>\n",
       "      <td>41592</td>\n",
       "    </tr>\n",
       "    <tr>\n",
       "      <th>2</th>\n",
       "      <td>health_poverty</td>\n",
       "      <td>(1390, 55)</td>\n",
       "      <td>38949</td>\n",
       "    </tr>\n",
       "    <tr>\n",
       "      <th>3</th>\n",
       "      <td>private_sector</td>\n",
       "      <td>(845, 55)</td>\n",
       "      <td>25124</td>\n",
       "    </tr>\n",
       "    <tr>\n",
       "      <th>4</th>\n",
       "      <td>public_sector</td>\n",
       "      <td>(1600, 55)</td>\n",
       "      <td>54804</td>\n",
       "    </tr>\n",
       "  </tbody>\n",
       "</table>\n",
       "</div>"
      ],
      "text/plain": [
       "               dataframe       shape  total_nans\n",
       "0                economy  (1730, 55)       26550\n",
       "1  education_environment  (1430, 55)       41592\n",
       "2         health_poverty  (1390, 55)       38949\n",
       "3         private_sector   (845, 55)       25124\n",
       "4          public_sector  (1600, 55)       54804"
      ]
     },
     "execution_count": 5,
     "metadata": {},
     "output_type": "execute_result"
    }
   ],
   "source": [
    "# Study the dataframes and understand the data\n",
    "\n",
    "df_shapes = {\n",
    "    'dataframe': ['economy', 'education_environment', 'health_poverty', 'private_sector', 'public_sector'],\n",
    "    'shape': [economy_raw_df.shape, education_environment_raw_df.shape, health_poverty_raw_df.shape, private_sector_raw_df.shape, public_sector_raw_df.shape],\n",
    "    'total_nans': [economy_raw_df.isna().sum().sum(), education_environment_raw_df.isna().sum().sum(), health_poverty_raw_df.isna().sum().sum(), private_sector_raw_df.isna().sum().sum(), public_sector_raw_df.isna().sum().sum()]\n",
    "}\n",
    "\n",
    "df_shapes = pd.DataFrame(df_shapes)\n",
    "\n",
    "df_shapes"
   ]
  },
  {
   "cell_type": "code",
   "execution_count": 6,
   "metadata": {},
   "outputs": [],
   "source": [
    "# Function to standardize column names\n",
    "def year_col_name(cols):\n",
    "    new_cols = []\n",
    "    for col in cols:\n",
    "        if '[YR' in col: # if it's a year col, append only the number\n",
    "            new_cols.append(col.split(' ')[0])\n",
    "        elif ' ' in col: # this must be the second check due to ambiguity\n",
    "            new_cols.append(col.replace(' ', '_'))\n",
    "        else: # if the column doesn't meet any criteria, append it as it is\n",
    "            new_cols.append(col)\n",
    "    return new_cols"
   ]
  },
  {
   "cell_type": "code",
   "execution_count": 7,
   "metadata": {},
   "outputs": [],
   "source": [
    "# Modify the column names (Here we are targeting only the year column). We might need to mofdify more columns in the future\n",
    "economy_raw_df.columns = year_col_name(economy_raw_df.columns)\n",
    "education_environment_raw_df.columns = year_col_name(education_environment_raw_df.columns)\n",
    "health_poverty_raw_df.columns = year_col_name(health_poverty_raw_df.columns)\n",
    "private_sector_raw_df.columns = year_col_name(private_sector_raw_df.columns)\n",
    "public_sector_raw_df.columns = year_col_name(public_sector_raw_df.columns)"
   ]
  },
  {
   "cell_type": "code",
   "execution_count": 8,
   "metadata": {},
   "outputs": [
    {
     "data": {
      "text/html": [
       "<div>\n",
       "<style scoped>\n",
       "    .dataframe tbody tr th:only-of-type {\n",
       "        vertical-align: middle;\n",
       "    }\n",
       "\n",
       "    .dataframe tbody tr th {\n",
       "        vertical-align: top;\n",
       "    }\n",
       "\n",
       "    .dataframe thead th {\n",
       "        text-align: right;\n",
       "    }\n",
       "</style>\n",
       "<table border=\"1\" class=\"dataframe\">\n",
       "  <thead>\n",
       "    <tr style=\"text-align: right;\">\n",
       "      <th></th>\n",
       "      <th>Country_Name</th>\n",
       "      <th>Country_Code</th>\n",
       "      <th>Series_Name</th>\n",
       "      <th>Series_Code</th>\n",
       "      <th>Year</th>\n",
       "      <th>Value</th>\n",
       "    </tr>\n",
       "  </thead>\n",
       "  <tbody>\n",
       "    <tr>\n",
       "      <th>0</th>\n",
       "      <td>Brazil</td>\n",
       "      <td>BRA</td>\n",
       "      <td>Adjusted net national income (annual % growth)</td>\n",
       "      <td>NY.ADJ.NNTY.KD.ZG</td>\n",
       "      <td>1970</td>\n",
       "      <td>NaN</td>\n",
       "    </tr>\n",
       "  </tbody>\n",
       "</table>\n",
       "</div>"
      ],
      "text/plain": [
       "  Country_Name Country_Code                                     Series_Name  \\\n",
       "0       Brazil          BRA  Adjusted net national income (annual % growth)   \n",
       "\n",
       "         Series_Code  Year  Value  \n",
       "0  NY.ADJ.NNTY.KD.ZG  1970    NaN  "
      ]
     },
     "metadata": {},
     "output_type": "display_data"
    },
    {
     "data": {
      "text/html": [
       "<div>\n",
       "<style scoped>\n",
       "    .dataframe tbody tr th:only-of-type {\n",
       "        vertical-align: middle;\n",
       "    }\n",
       "\n",
       "    .dataframe tbody tr th {\n",
       "        vertical-align: top;\n",
       "    }\n",
       "\n",
       "    .dataframe thead th {\n",
       "        text-align: right;\n",
       "    }\n",
       "</style>\n",
       "<table border=\"1\" class=\"dataframe\">\n",
       "  <thead>\n",
       "    <tr style=\"text-align: right;\">\n",
       "      <th></th>\n",
       "      <th>Country_Name</th>\n",
       "      <th>Country_Code</th>\n",
       "      <th>Series_Name</th>\n",
       "      <th>Series_Code</th>\n",
       "      <th>Year</th>\n",
       "      <th>Value</th>\n",
       "    </tr>\n",
       "  </thead>\n",
       "  <tbody>\n",
       "    <tr>\n",
       "      <th>0</th>\n",
       "      <td>Brazil</td>\n",
       "      <td>BRA</td>\n",
       "      <td>Access to clean fuels and technologies for cooking (% of population)</td>\n",
       "      <td>EG.CFT.ACCS.ZS</td>\n",
       "      <td>1970</td>\n",
       "      <td>NaN</td>\n",
       "    </tr>\n",
       "  </tbody>\n",
       "</table>\n",
       "</div>"
      ],
      "text/plain": [
       "  Country_Name Country_Code  \\\n",
       "0       Brazil          BRA   \n",
       "\n",
       "                                                            Series_Name  \\\n",
       "0  Access to clean fuels and technologies for cooking (% of population)   \n",
       "\n",
       "      Series_Code  Year  Value  \n",
       "0  EG.CFT.ACCS.ZS  1970    NaN  "
      ]
     },
     "metadata": {},
     "output_type": "display_data"
    },
    {
     "data": {
      "text/html": [
       "<div>\n",
       "<style scoped>\n",
       "    .dataframe tbody tr th:only-of-type {\n",
       "        vertical-align: middle;\n",
       "    }\n",
       "\n",
       "    .dataframe tbody tr th {\n",
       "        vertical-align: top;\n",
       "    }\n",
       "\n",
       "    .dataframe thead th {\n",
       "        text-align: right;\n",
       "    }\n",
       "</style>\n",
       "<table border=\"1\" class=\"dataframe\">\n",
       "  <thead>\n",
       "    <tr style=\"text-align: right;\">\n",
       "      <th></th>\n",
       "      <th>Country_Name</th>\n",
       "      <th>Country_Code</th>\n",
       "      <th>Series_Name</th>\n",
       "      <th>Series_Code</th>\n",
       "      <th>Year</th>\n",
       "      <th>Value</th>\n",
       "    </tr>\n",
       "  </thead>\n",
       "  <tbody>\n",
       "    <tr>\n",
       "      <th>0</th>\n",
       "      <td>Brazil</td>\n",
       "      <td>BRA</td>\n",
       "      <td>Adolescent fertility rate (births per 1,000 women ages 15-19)</td>\n",
       "      <td>SP.ADO.TFRT</td>\n",
       "      <td>1970</td>\n",
       "      <td>77.1184</td>\n",
       "    </tr>\n",
       "  </tbody>\n",
       "</table>\n",
       "</div>"
      ],
      "text/plain": [
       "  Country_Name Country_Code  \\\n",
       "0       Brazil          BRA   \n",
       "\n",
       "                                                     Series_Name  Series_Code  \\\n",
       "0  Adolescent fertility rate (births per 1,000 women ages 15-19)  SP.ADO.TFRT   \n",
       "\n",
       "   Year    Value  \n",
       "0  1970  77.1184  "
      ]
     },
     "metadata": {},
     "output_type": "display_data"
    },
    {
     "data": {
      "text/html": [
       "<div>\n",
       "<style scoped>\n",
       "    .dataframe tbody tr th:only-of-type {\n",
       "        vertical-align: middle;\n",
       "    }\n",
       "\n",
       "    .dataframe tbody tr th {\n",
       "        vertical-align: top;\n",
       "    }\n",
       "\n",
       "    .dataframe thead th {\n",
       "        text-align: right;\n",
       "    }\n",
       "</style>\n",
       "<table border=\"1\" class=\"dataframe\">\n",
       "  <thead>\n",
       "    <tr style=\"text-align: right;\">\n",
       "      <th></th>\n",
       "      <th>Country_Name</th>\n",
       "      <th>Country_Code</th>\n",
       "      <th>Series_Name</th>\n",
       "      <th>Series_Code</th>\n",
       "      <th>Year</th>\n",
       "      <th>Value</th>\n",
       "    </tr>\n",
       "  </thead>\n",
       "  <tbody>\n",
       "    <tr>\n",
       "      <th>0</th>\n",
       "      <td>Brazil</td>\n",
       "      <td>BRA</td>\n",
       "      <td>Agricultural raw materials exports (% of merchandise exports)</td>\n",
       "      <td>TX.VAL.AGRI.ZS.UN</td>\n",
       "      <td>1970</td>\n",
       "      <td>11.895098</td>\n",
       "    </tr>\n",
       "  </tbody>\n",
       "</table>\n",
       "</div>"
      ],
      "text/plain": [
       "  Country_Name Country_Code  \\\n",
       "0       Brazil          BRA   \n",
       "\n",
       "                                                     Series_Name  \\\n",
       "0  Agricultural raw materials exports (% of merchandise exports)   \n",
       "\n",
       "         Series_Code  Year      Value  \n",
       "0  TX.VAL.AGRI.ZS.UN  1970  11.895098  "
      ]
     },
     "metadata": {},
     "output_type": "display_data"
    },
    {
     "data": {
      "text/html": [
       "<div>\n",
       "<style scoped>\n",
       "    .dataframe tbody tr th:only-of-type {\n",
       "        vertical-align: middle;\n",
       "    }\n",
       "\n",
       "    .dataframe tbody tr th {\n",
       "        vertical-align: top;\n",
       "    }\n",
       "\n",
       "    .dataframe thead th {\n",
       "        text-align: right;\n",
       "    }\n",
       "</style>\n",
       "<table border=\"1\" class=\"dataframe\">\n",
       "  <thead>\n",
       "    <tr style=\"text-align: right;\">\n",
       "      <th></th>\n",
       "      <th>Country_Name</th>\n",
       "      <th>Country_Code</th>\n",
       "      <th>Series_Name</th>\n",
       "      <th>Series_Code</th>\n",
       "      <th>Year</th>\n",
       "      <th>Value</th>\n",
       "    </tr>\n",
       "  </thead>\n",
       "  <tbody>\n",
       "    <tr>\n",
       "      <th>0</th>\n",
       "      <td>Brazil</td>\n",
       "      <td>BRA</td>\n",
       "      <td>Adequacy of social insurance programs (% of total welfare of beneficiary households)</td>\n",
       "      <td>per_si_allsi.adq_pop_tot</td>\n",
       "      <td>1970</td>\n",
       "      <td>NaN</td>\n",
       "    </tr>\n",
       "  </tbody>\n",
       "</table>\n",
       "</div>"
      ],
      "text/plain": [
       "  Country_Name Country_Code  \\\n",
       "0       Brazil          BRA   \n",
       "\n",
       "                                                                            Series_Name  \\\n",
       "0  Adequacy of social insurance programs (% of total welfare of beneficiary households)   \n",
       "\n",
       "                Series_Code  Year  Value  \n",
       "0  per_si_allsi.adq_pop_tot  1970    NaN  "
      ]
     },
     "metadata": {},
     "output_type": "display_data"
    }
   ],
   "source": [
    "# Using melt function here to unpivot the dataframes\n",
    "economy_melted_df = economy_raw_df.melt(id_vars=['Country_Name', 'Country_Code', 'Series_Name', 'Series_Code'], var_name='Year', value_name='Value')\n",
    "education_environment_melted_df = education_environment_raw_df.melt(id_vars=['Country_Name', 'Country_Code', 'Series_Name', 'Series_Code'], var_name='Year', value_name='Value')\n",
    "health_poverty_melted_df = health_poverty_raw_df.melt(id_vars=['Country_Name', 'Country_Code', 'Series_Name', 'Series_Code'], var_name='Year', value_name='Value')\n",
    "private_sector_melted_df = private_sector_raw_df.melt(id_vars=['Country_Name', 'Country_Code', 'Series_Name', 'Series_Code'], var_name='Year', value_name='Value')\n",
    "public_sector_melted_df = public_sector_raw_df.melt(id_vars=['Country_Name', 'Country_Code', 'Series_Name', 'Series_Code'], var_name='Year', value_name='Value')\n",
    "\n",
    "# Preview the dataframes\n",
    "display(economy_melted_df.head(1))\n",
    "display(education_environment_melted_df.head(1))\n",
    "display(health_poverty_melted_df.head(1))\n",
    "display(private_sector_melted_df.head(1))\n",
    "display(public_sector_melted_df.head(1))"
   ]
  },
  {
   "cell_type": "code",
   "execution_count": 9,
   "metadata": {},
   "outputs": [
    {
     "data": {
      "text/plain": [
       "Country_Name      153\n",
       "Country_Code      255\n",
       "Series_Name       255\n",
       "Series_Code       255\n",
       "Year                0\n",
       "Value           26532\n",
       "dtype: int64"
      ]
     },
     "metadata": {},
     "output_type": "display_data"
    },
    {
     "data": {
      "text/plain": [
       "Country_Name      153\n",
       "Country_Code      255\n",
       "Series_Name       255\n",
       "Series_Code       255\n",
       "Year                0\n",
       "Value           41574\n",
       "dtype: int64"
      ]
     },
     "metadata": {},
     "output_type": "display_data"
    },
    {
     "data": {
      "text/plain": [
       "Country_Name      153\n",
       "Country_Code      255\n",
       "Series_Name       255\n",
       "Series_Code       255\n",
       "Year                0\n",
       "Value           38931\n",
       "dtype: int64"
      ]
     },
     "metadata": {},
     "output_type": "display_data"
    },
    {
     "data": {
      "text/plain": [
       "Country_Name      153\n",
       "Country_Code      255\n",
       "Series_Name       255\n",
       "Series_Code       255\n",
       "Year                0\n",
       "Value           25106\n",
       "dtype: int64"
      ]
     },
     "metadata": {},
     "output_type": "display_data"
    },
    {
     "data": {
      "text/plain": [
       "Country_Name      153\n",
       "Country_Code      255\n",
       "Series_Name       255\n",
       "Series_Code       255\n",
       "Year                0\n",
       "Value           54786\n",
       "dtype: int64"
      ]
     },
     "metadata": {},
     "output_type": "display_data"
    }
   ],
   "source": [
    "display(economy_melted_df.isna().sum())\n",
    "display(education_environment_melted_df.isna().sum())\n",
    "display(health_poverty_melted_df.isna().sum())\n",
    "display(private_sector_melted_df.isna().sum())\n",
    "display(public_sector_melted_df.isna().sum())"
   ]
  },
  {
   "cell_type": "code",
   "execution_count": 10,
   "metadata": {},
   "outputs": [],
   "source": [
    "# Function to return dataframe based on start_year and end_year\n",
    "def fn_df_year_filter(df, start_year, end_year):\n",
    "    return df[(df['Year'] >= start_year) & (df['Year'] <= end_year)].reset_index(drop=True)\n",
    "\n",
    "def fn_df_set_data_types(df):\n",
    "    return df.astype({'Country_Name': 'string',\n",
    "                      'Country_Code': 'string',\n",
    "                      'Series_Name': 'string',\n",
    "                      'Series_Code': 'string',\n",
    "                      'Year': 'int'})"
   ]
  },
  {
   "cell_type": "code",
   "execution_count": 11,
   "metadata": {},
   "outputs": [],
   "source": [
    "# This section is to modify the data and finalize the dataframes to proceed with our analysis\n",
    "\n",
    "# Drop all NaN values\n",
    "economy_modified_df = economy_melted_df.dropna()\n",
    "education_environment_modified_df = education_environment_melted_df.dropna()\n",
    "health_poverty_modified_df = health_poverty_melted_df.dropna()\n",
    "private_sector_modified_df = private_sector_melted_df.dropna()\n",
    "public_sector_modified_df = public_sector_melted_df.dropna()\n",
    "\n",
    "# Modify data types for all dataframes\n",
    "economy_modified_df = fn_df_set_data_types(economy_modified_df)\n",
    "education_environment_modified_df = fn_df_set_data_types(education_environment_modified_df)\n",
    "health_poverty_modified_df = fn_df_set_data_types(health_poverty_modified_df)\n",
    "private_sector_modified_df = fn_df_set_data_types(private_sector_modified_df)\n",
    "public_sector_modified_df = fn_df_set_data_types(public_sector_modified_df)"
   ]
  },
  {
   "cell_type": "code",
   "execution_count": 12,
   "metadata": {},
   "outputs": [
    {
     "name": "stdout",
     "output_type": "stream",
     "text": [
      "<class 'pandas.core.frame.DataFrame'>\n",
      "RangeIndex: 14912 entries, 0 to 14911\n",
      "Data columns (total 6 columns):\n",
      " #   Column        Non-Null Count  Dtype  \n",
      "---  ------        --------------  -----  \n",
      " 0   Country_Name  14912 non-null  string \n",
      " 1   Country_Code  14912 non-null  string \n",
      " 2   Series_Name   14912 non-null  string \n",
      " 3   Series_Code   14912 non-null  string \n",
      " 4   Year          14912 non-null  int64  \n",
      " 5   Value         14912 non-null  float64\n",
      "dtypes: float64(1), int64(1), string(4)\n",
      "memory usage: 699.1 KB\n"
     ]
    },
    {
     "data": {
      "text/plain": [
       "None"
      ]
     },
     "metadata": {},
     "output_type": "display_data"
    },
    {
     "name": "stdout",
     "output_type": "stream",
     "text": [
      "<class 'pandas.core.frame.DataFrame'>\n",
      "RangeIndex: 7299 entries, 0 to 7298\n",
      "Data columns (total 6 columns):\n",
      " #   Column        Non-Null Count  Dtype  \n",
      "---  ------        --------------  -----  \n",
      " 0   Country_Name  7299 non-null   string \n",
      " 1   Country_Code  7299 non-null   string \n",
      " 2   Series_Name   7299 non-null   string \n",
      " 3   Series_Code   7299 non-null   string \n",
      " 4   Year          7299 non-null   int64  \n",
      " 5   Value         7299 non-null   float64\n",
      "dtypes: float64(1), int64(1), string(4)\n",
      "memory usage: 342.3 KB\n"
     ]
    },
    {
     "data": {
      "text/plain": [
       "None"
      ]
     },
     "metadata": {},
     "output_type": "display_data"
    },
    {
     "name": "stdout",
     "output_type": "stream",
     "text": [
      "<class 'pandas.core.frame.DataFrame'>\n",
      "RangeIndex: 8805 entries, 0 to 8804\n",
      "Data columns (total 6 columns):\n",
      " #   Column        Non-Null Count  Dtype  \n",
      "---  ------        --------------  -----  \n",
      " 0   Country_Name  8805 non-null   string \n",
      " 1   Country_Code  8805 non-null   string \n",
      " 2   Series_Name   8805 non-null   string \n",
      " 3   Series_Code   8805 non-null   string \n",
      " 4   Year          8805 non-null   int64  \n",
      " 5   Value         8805 non-null   float64\n",
      "dtypes: float64(1), int64(1), string(4)\n",
      "memory usage: 412.9 KB\n"
     ]
    },
    {
     "data": {
      "text/plain": [
       "None"
      ]
     },
     "metadata": {},
     "output_type": "display_data"
    },
    {
     "name": "stdout",
     "output_type": "stream",
     "text": [
      "<class 'pandas.core.frame.DataFrame'>\n",
      "RangeIndex: 6234 entries, 0 to 6233\n",
      "Data columns (total 6 columns):\n",
      " #   Column        Non-Null Count  Dtype  \n",
      "---  ------        --------------  -----  \n",
      " 0   Country_Name  6234 non-null   string \n",
      " 1   Country_Code  6234 non-null   string \n",
      " 2   Series_Name   6234 non-null   string \n",
      " 3   Series_Code   6234 non-null   string \n",
      " 4   Year          6234 non-null   int64  \n",
      " 5   Value         6234 non-null   float64\n",
      "dtypes: float64(1), int64(1), string(4)\n",
      "memory usage: 292.3 KB\n"
     ]
    },
    {
     "data": {
      "text/plain": [
       "None"
      ]
     },
     "metadata": {},
     "output_type": "display_data"
    },
    {
     "name": "stdout",
     "output_type": "stream",
     "text": [
      "<class 'pandas.core.frame.DataFrame'>\n",
      "RangeIndex: 9625 entries, 0 to 9624\n",
      "Data columns (total 6 columns):\n",
      " #   Column        Non-Null Count  Dtype  \n",
      "---  ------        --------------  -----  \n",
      " 0   Country_Name  9625 non-null   string \n",
      " 1   Country_Code  9625 non-null   string \n",
      " 2   Series_Name   9625 non-null   string \n",
      " 3   Series_Code   9625 non-null   string \n",
      " 4   Year          9625 non-null   int64  \n",
      " 5   Value         9625 non-null   float64\n",
      "dtypes: float64(1), int64(1), string(4)\n",
      "memory usage: 451.3 KB\n"
     ]
    },
    {
     "data": {
      "text/plain": [
       "None"
      ]
     },
     "metadata": {},
     "output_type": "display_data"
    },
    {
     "data": {
      "text/html": [
       "<div>\n",
       "<style scoped>\n",
       "    .dataframe tbody tr th:only-of-type {\n",
       "        vertical-align: middle;\n",
       "    }\n",
       "\n",
       "    .dataframe tbody tr th {\n",
       "        vertical-align: top;\n",
       "    }\n",
       "\n",
       "    .dataframe thead th {\n",
       "        text-align: right;\n",
       "    }\n",
       "</style>\n",
       "<table border=\"1\" class=\"dataframe\">\n",
       "  <thead>\n",
       "    <tr style=\"text-align: right;\">\n",
       "      <th></th>\n",
       "      <th>Country_Name</th>\n",
       "      <th>Country_Code</th>\n",
       "      <th>Series_Name</th>\n",
       "      <th>Series_Code</th>\n",
       "      <th>Year</th>\n",
       "      <th>Value</th>\n",
       "    </tr>\n",
       "  </thead>\n",
       "  <tbody>\n",
       "    <tr>\n",
       "      <th>0</th>\n",
       "      <td>Brazil</td>\n",
       "      <td>BRA</td>\n",
       "      <td>Adjusted net national income (annual % growth)</td>\n",
       "      <td>NY.ADJ.NNTY.KD.ZG</td>\n",
       "      <td>2010</td>\n",
       "      <td>5.155433</td>\n",
       "    </tr>\n",
       "  </tbody>\n",
       "</table>\n",
       "</div>"
      ],
      "text/plain": [
       "  Country_Name Country_Code                                     Series_Name  \\\n",
       "0       Brazil          BRA  Adjusted net national income (annual % growth)   \n",
       "\n",
       "         Series_Code  Year     Value  \n",
       "0  NY.ADJ.NNTY.KD.ZG  2010  5.155433  "
      ]
     },
     "metadata": {},
     "output_type": "display_data"
    },
    {
     "data": {
      "text/html": [
       "<div>\n",
       "<style scoped>\n",
       "    .dataframe tbody tr th:only-of-type {\n",
       "        vertical-align: middle;\n",
       "    }\n",
       "\n",
       "    .dataframe tbody tr th {\n",
       "        vertical-align: top;\n",
       "    }\n",
       "\n",
       "    .dataframe thead th {\n",
       "        text-align: right;\n",
       "    }\n",
       "</style>\n",
       "<table border=\"1\" class=\"dataframe\">\n",
       "  <thead>\n",
       "    <tr style=\"text-align: right;\">\n",
       "      <th></th>\n",
       "      <th>Country_Name</th>\n",
       "      <th>Country_Code</th>\n",
       "      <th>Series_Name</th>\n",
       "      <th>Series_Code</th>\n",
       "      <th>Year</th>\n",
       "      <th>Value</th>\n",
       "    </tr>\n",
       "  </thead>\n",
       "  <tbody>\n",
       "    <tr>\n",
       "      <th>0</th>\n",
       "      <td>Brazil</td>\n",
       "      <td>BRA</td>\n",
       "      <td>Access to clean fuels and technologies for cooking (% of population)</td>\n",
       "      <td>EG.CFT.ACCS.ZS</td>\n",
       "      <td>2010</td>\n",
       "      <td>94.0</td>\n",
       "    </tr>\n",
       "  </tbody>\n",
       "</table>\n",
       "</div>"
      ],
      "text/plain": [
       "  Country_Name Country_Code  \\\n",
       "0       Brazil          BRA   \n",
       "\n",
       "                                                            Series_Name  \\\n",
       "0  Access to clean fuels and technologies for cooking (% of population)   \n",
       "\n",
       "      Series_Code  Year  Value  \n",
       "0  EG.CFT.ACCS.ZS  2010   94.0  "
      ]
     },
     "metadata": {},
     "output_type": "display_data"
    },
    {
     "data": {
      "text/html": [
       "<div>\n",
       "<style scoped>\n",
       "    .dataframe tbody tr th:only-of-type {\n",
       "        vertical-align: middle;\n",
       "    }\n",
       "\n",
       "    .dataframe tbody tr th {\n",
       "        vertical-align: top;\n",
       "    }\n",
       "\n",
       "    .dataframe thead th {\n",
       "        text-align: right;\n",
       "    }\n",
       "</style>\n",
       "<table border=\"1\" class=\"dataframe\">\n",
       "  <thead>\n",
       "    <tr style=\"text-align: right;\">\n",
       "      <th></th>\n",
       "      <th>Country_Name</th>\n",
       "      <th>Country_Code</th>\n",
       "      <th>Series_Name</th>\n",
       "      <th>Series_Code</th>\n",
       "      <th>Year</th>\n",
       "      <th>Value</th>\n",
       "    </tr>\n",
       "  </thead>\n",
       "  <tbody>\n",
       "    <tr>\n",
       "      <th>0</th>\n",
       "      <td>Brazil</td>\n",
       "      <td>BRA</td>\n",
       "      <td>Adolescent fertility rate (births per 1,000 women ages 15-19)</td>\n",
       "      <td>SP.ADO.TFRT</td>\n",
       "      <td>2010</td>\n",
       "      <td>66.8926</td>\n",
       "    </tr>\n",
       "  </tbody>\n",
       "</table>\n",
       "</div>"
      ],
      "text/plain": [
       "  Country_Name Country_Code  \\\n",
       "0       Brazil          BRA   \n",
       "\n",
       "                                                     Series_Name  Series_Code  \\\n",
       "0  Adolescent fertility rate (births per 1,000 women ages 15-19)  SP.ADO.TFRT   \n",
       "\n",
       "   Year    Value  \n",
       "0  2010  66.8926  "
      ]
     },
     "metadata": {},
     "output_type": "display_data"
    },
    {
     "data": {
      "text/html": [
       "<div>\n",
       "<style scoped>\n",
       "    .dataframe tbody tr th:only-of-type {\n",
       "        vertical-align: middle;\n",
       "    }\n",
       "\n",
       "    .dataframe tbody tr th {\n",
       "        vertical-align: top;\n",
       "    }\n",
       "\n",
       "    .dataframe thead th {\n",
       "        text-align: right;\n",
       "    }\n",
       "</style>\n",
       "<table border=\"1\" class=\"dataframe\">\n",
       "  <thead>\n",
       "    <tr style=\"text-align: right;\">\n",
       "      <th></th>\n",
       "      <th>Country_Name</th>\n",
       "      <th>Country_Code</th>\n",
       "      <th>Series_Name</th>\n",
       "      <th>Series_Code</th>\n",
       "      <th>Year</th>\n",
       "      <th>Value</th>\n",
       "    </tr>\n",
       "  </thead>\n",
       "  <tbody>\n",
       "    <tr>\n",
       "      <th>0</th>\n",
       "      <td>Brazil</td>\n",
       "      <td>BRA</td>\n",
       "      <td>Agricultural raw materials exports (% of merchandise exports)</td>\n",
       "      <td>TX.VAL.AGRI.ZS.UN</td>\n",
       "      <td>2010</td>\n",
       "      <td>3.88294</td>\n",
       "    </tr>\n",
       "  </tbody>\n",
       "</table>\n",
       "</div>"
      ],
      "text/plain": [
       "  Country_Name Country_Code  \\\n",
       "0       Brazil          BRA   \n",
       "\n",
       "                                                     Series_Name  \\\n",
       "0  Agricultural raw materials exports (% of merchandise exports)   \n",
       "\n",
       "         Series_Code  Year    Value  \n",
       "0  TX.VAL.AGRI.ZS.UN  2010  3.88294  "
      ]
     },
     "metadata": {},
     "output_type": "display_data"
    },
    {
     "data": {
      "text/html": [
       "<div>\n",
       "<style scoped>\n",
       "    .dataframe tbody tr th:only-of-type {\n",
       "        vertical-align: middle;\n",
       "    }\n",
       "\n",
       "    .dataframe tbody tr th {\n",
       "        vertical-align: top;\n",
       "    }\n",
       "\n",
       "    .dataframe thead th {\n",
       "        text-align: right;\n",
       "    }\n",
       "</style>\n",
       "<table border=\"1\" class=\"dataframe\">\n",
       "  <thead>\n",
       "    <tr style=\"text-align: right;\">\n",
       "      <th></th>\n",
       "      <th>Country_Name</th>\n",
       "      <th>Country_Code</th>\n",
       "      <th>Series_Name</th>\n",
       "      <th>Series_Code</th>\n",
       "      <th>Year</th>\n",
       "      <th>Value</th>\n",
       "    </tr>\n",
       "  </thead>\n",
       "  <tbody>\n",
       "    <tr>\n",
       "      <th>0</th>\n",
       "      <td>Brazil</td>\n",
       "      <td>BRA</td>\n",
       "      <td>Air transport, freight (million ton-km)</td>\n",
       "      <td>IS.AIR.GOOD.MT.K1</td>\n",
       "      <td>2010</td>\n",
       "      <td>1302.474648</td>\n",
       "    </tr>\n",
       "  </tbody>\n",
       "</table>\n",
       "</div>"
      ],
      "text/plain": [
       "  Country_Name Country_Code                              Series_Name  \\\n",
       "0       Brazil          BRA  Air transport, freight (million ton-km)   \n",
       "\n",
       "         Series_Code  Year        Value  \n",
       "0  IS.AIR.GOOD.MT.K1  2010  1302.474648  "
      ]
     },
     "metadata": {},
     "output_type": "display_data"
    }
   ],
   "source": [
    "# Restrict dataframes last 10 years of data\n",
    "economy_final_df = fn_df_year_filter(economy_modified_df, start_year, end_year)\n",
    "education_environment_final_df = fn_df_year_filter(education_environment_modified_df, start_year, end_year)\n",
    "health_poverty_final_df = fn_df_year_filter(health_poverty_modified_df, start_year, end_year)\n",
    "private_sector_final_df = fn_df_year_filter(private_sector_modified_df, start_year, end_year)\n",
    "public_sector_final_df = fn_df_year_filter(public_sector_modified_df, start_year, end_year)\n",
    "\n",
    "display(economy_final_df.info())\n",
    "display(education_environment_final_df.info())\n",
    "display(health_poverty_final_df.info())\n",
    "display(private_sector_final_df.info())\n",
    "display(public_sector_final_df.info())\n",
    "\n",
    "display(economy_final_df.head(1))\n",
    "display(education_environment_final_df.head(1))\n",
    "display(health_poverty_final_df.head(1))\n",
    "display(private_sector_final_df.head(1))\n",
    "display(public_sector_final_df.head(1))"
   ]
  },
  {
   "cell_type": "code",
   "execution_count": 28,
   "metadata": {},
   "outputs": [
    {
     "data": {
      "text/plain": [
       "<StringArray>\n",
       "[                                                    'Adolescent fertility rate (births per 1,000 women ages 15-19)',\n",
       "                                                'Adults (ages 15+) and children (ages 0-14) newly infected with HIV',\n",
       "                                                                'Age dependency ratio (% of working-age population)',\n",
       "                                                           'Age dependency ratio, old (% of working-age population)',\n",
       "                                                         'Age dependency ratio, young (% of working-age population)',\n",
       "                                                     'Antiretroviral therapy coverage (% of people living with HIV)',\n",
       "                                                                              'Birth rate, crude (per 1,000 people)',\n",
       "                                                              'Births attended by skilled health staff (% of total)',\n",
       "             'Cause of death, by communicable diseases and maternal, prenatal and nutrition conditions (% of total)',\n",
       "                                                                            'Cause of death, by injury (% of total)',\n",
       " ...\n",
       " 'Annualized average growth rate in per capita real survey mean consumption or income, bottom 40% of population (%)',\n",
       "         'Annualized average growth rate in per capita real survey mean consumption or income, total population (%)',\n",
       "                           'Children with fever receiving antimalarial drugs (% of children under age 5 with fever)',\n",
       "                       'Diarrhea treatment (% of children under 5 receiving oral rehydration and continued feeding)',\n",
       "                                                     'Female headed households (% of households with a female head)',\n",
       "                           'Teenage mothers (% of women ages 15-19 who have had children or are currently pregnant)',\n",
       "                                                     'Use of insecticide-treated bed nets (% of under-5 population)',\n",
       "                                                                          'Wanted fertility rate (births per woman)',\n",
       "                                                    'Women who were first married by age 15 (% of women ages 20-24)',\n",
       "                                                    'Women who were first married by age 18 (% of women ages 20-24)']\n",
       "Length: 265, dtype: string"
      ]
     },
     "metadata": {},
     "output_type": "display_data"
    }
   ],
   "source": [
    "display(health_poverty_final_df['Series_Name'].unique())"
   ]
  },
  {
   "cell_type": "code",
   "execution_count": 24,
   "metadata": {},
   "outputs": [
    {
     "data": {
      "image/png": "[encoded data removed]",
      "text/plain": [
       "<Figure size 640x480 with 1 Axes>"
      ]
     },
     "metadata": {},
     "output_type": "display_data"
    }
   ],
   "source": [
    "# Current health expenditure (% of GDP)\n",
    "current_health_expenditure = health_poverty_final_df.loc[health_poverty_final_df['Series_Code'] == 'SH.XPD.CHEX.GD.ZS'].reset_index(drop=True)\n",
    "\n",
    "min_floor_current_health_expenditure = np.floor(current_health_expenditure['Value'].min())\n",
    "max_ceil_current_health_expenditure = np.ceil(current_health_expenditure['Value'].max())\n",
    "\n",
    "for country in current_health_expenditure['Country_Code'].unique():\n",
    "    country_data = current_health_expenditure.loc[current_health_expenditure['Country_Code'] == country]\n",
    "    plt.plot(country_data['Year'], country_data['Value'], label=country)\n",
    "\n",
    "plt.legend(title=\"Country\", loc=\"upper right\")\n",
    "plt.xticks(np.arange(start_year, end_year + 1, 1))\n",
    "plt.xlim(start_year, end_year + 1)\n",
    "plt.ylim(min_floor_current_health_expenditure, max_ceil_current_health_expenditure)\n",
    "plt.xlabel(\"Year\")\n",
    "plt.ylabel(\"Current Health Expenditure (% of GDP)\")\n",
    "\n",
    "plt.show()"
   ]
  },
  {
   "cell_type": "code",
   "execution_count": 30,
   "metadata": {},
   "outputs": [
    {
     "data": {
      "image/png": "[encoded data removed]",
      "text/plain": [
       "<Figure size 640x480 with 1 Axes>"
      ]
     },
     "metadata": {},
     "output_type": "display_data"
    }
   ],
   "source": [
    "# Mortality rate, under-5 (per 1,000 live births)\n",
    "mortality_rate = health_poverty_final_df.loc[health_poverty_final_df['Series_Code'] == 'SH.DYN.MORT'].reset_index(drop=True)\n",
    "\n",
    "for country in mortality_rate['Country_Code'].unique():\n",
    "    country_data = mortality_rate.loc[mortality_rate['Country_Code'] == country]\n",
    "    plt.plot(country_data['Year'], country_data['Value'], label=country)\n",
    "\n",
    "plt.legend(title=\"Country\", loc=\"upper right\")\n",
    "plt.xticks(np.arange(start_year, end_year + 1, 1))\n",
    "plt.xlim(start_year, end_year + 1)\n",
    "plt.xlabel(\"Year\")\n",
    "plt.ylabel(\"Mortality rate, under-5 (per 1,000 live births)\")\n",
    "\n",
    "plt.show()"
   ]
  }
 ],
 "metadata": {
  "kernelspec": {
   "display_name": "base",
   "language": "python",
   "name": "python3"
  },
  "language_info": {
   "codemirror_mode": {
    "name": "ipython",
    "version": 3
   },
   "file_extension": ".py",
   "mimetype": "text/x-python",
   "name": "python",
   "nbconvert_exporter": "python",
   "pygments_lexer": "ipython3",
   "version": "3.12.4"
  }
 },
 "nbformat": 4,
 "nbformat_minor": 2
}
